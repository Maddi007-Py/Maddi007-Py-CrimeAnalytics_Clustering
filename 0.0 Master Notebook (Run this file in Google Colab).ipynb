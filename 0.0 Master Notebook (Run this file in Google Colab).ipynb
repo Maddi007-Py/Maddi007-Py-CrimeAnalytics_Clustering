{
  "nbformat": 4,
  "nbformat_minor": 0,
  "metadata": {
    "colab": {
      "provenance": [],
      "authorship_tag": "ABX9TyMZRHnX+aL6mq3m3r4fhii1",
      "include_colab_link": true
    },
    "kernelspec": {
      "name": "python3",
      "display_name": "Python 3"
    },
    "language_info": {
      "name": "python"
    }
  },
  "cells": [
    {
      "cell_type": "markdown",
      "metadata": {
        "id": "view-in-github",
        "colab_type": "text"
      },
      "source": [
        "<a href=\"https://colab.research.google.com/github/Maddi007-Py/Maddi007-Py-CrimeAnalytics_Clustering/blob/main/0.0%20Master%20Notebook%20(Run%20this%20file%20in%20Google%20Colab).ipynb\" target=\"_parent\"><img src=\"https://colab.research.google.com/assets/colab-badge.svg\" alt=\"Open In Colab\"/></a>"
      ]
    },
    {
      "cell_type": "code",
      "execution_count": null,
      "metadata": {
        "id": "X4j1Awkw_RX9"
      },
      "outputs": [],
      "source": [
        "# Master Notebook for Merging Project Files\n",
        "# -------------------------------------------------------------\n",
        "# This notebook will download three notebook files from GitHub,\n",
        "# merge them into one complete notebook, and also export the combined\n",
        "# code (with markdown converted to comments) into a Python script.\n",
        "#\n",
        "# How to use:\n",
        "# 1. Run this notebook in Google Colab.\n",
        "# 2. It will automatically fetch the notebooks, merge their contents\n",
        "#    in the given order (each markdown header followed by its code snippet),\n",
        "#    and create two files:\n",
        "#    - merged_notebook.ipynb\n",
        "#    - merged_script.py\n",
        "# 3. Both files are saved in the current working directory.\n",
        "#\n",
        "# No additional configuration is required.\n",
        "# -------------------------------------------------------------\n",
        "\n",
        "import requests\n",
        "import nbformat\n",
        "from nbformat import v4\n",
        "\n",
        "# List of GitHub notebook URLs (as provided)\n",
        "notebook_urls = [\n",
        "    \"https://github.com/Maddi007-Py/Maddi007-Py-CrimeAnalytics_Clustering/blob/main/5.0%20Loading%20Libraries%20and%20Major%20Crime%20Indicator%20Dataset%20from%20TPS.ipynb\",\n",
        "    \"https://github.com/Maddi007-Py/Maddi007-Py-CrimeAnalytics_Clustering/blob/main/5.1%20Learning%20Application%20Domain%3A%20Summary%20Table.ipynb\",\n",
        "    \"https://github.com/Maddi007-Py/Maddi007-Py-CrimeAnalytics_Clustering/blob/main/5.2%20Creating%20Target%20Dataset.ipynb\"\n",
        "]\n",
        "\n",
        "def get_raw_url(github_url):\n",
        "    \"\"\"\n",
        "    Convert a standard GitHub notebook URL to its raw URL.\n",
        "    \"\"\"\n",
        "    raw_url = github_url.replace(\"github.com\", \"raw.githubusercontent.com\").replace(\"/blob/\", \"/\")\n",
        "    return raw_url\n",
        "\n",
        "# List to store all merged cells (markdown and code)\n",
        "merged_cells = []\n",
        "\n",
        "for url in notebook_urls:\n",
        "    raw_url = get_raw_url(url)\n",
        "    print(f\"Downloading notebook from: {raw_url}\")\n",
        "    response = requests.get(raw_url)\n",
        "    response.raise_for_status()  # Stop if there's a download error\n",
        "    # Read the notebook in nbformat version 4\n",
        "    nb = nbformat.reads(response.text, as_version=4)\n",
        "    # Append all cells from this notebook in order\n",
        "    merged_cells.extend(nb.cells)\n",
        "\n",
        "# Create a new merged notebook with all collected cells\n",
        "merged_notebook = v4.new_notebook(cells=merged_cells)\n",
        "\n",
        "# Save the merged notebook as a new file\n",
        "merged_notebook_filename = \"merged_notebook.ipynb\"\n",
        "with open(merged_notebook_filename, \"w\", encoding=\"utf-8\") as f:\n",
        "    nbformat.write(merged_notebook, f)\n",
        "print(f\"Merged notebook saved as '{merged_notebook_filename}'.\")\n",
        "\n",
        "# OPTIONAL: Create a single Python script from the merged notebook\n",
        "# In the script, markdown cells are converted into comments, and code cells remain intact.\n",
        "script_lines = []\n",
        "for cell in merged_notebook.cells:\n",
        "    if cell.cell_type == 'code':\n",
        "        # Mark the beginning of a code cell for clarity\n",
        "        script_lines.append(\"# %% Code cell\")\n",
        "        script_lines.append(cell.source)\n",
        "    elif cell.cell_type == 'markdown':\n",
        "        # Mark the beginning of a markdown cell and convert its content to comments\n",
        "        script_lines.append(\"# %% Markdown cell\")\n",
        "        md_lines = [\"# \" + line for line in cell.source.splitlines()]\n",
        "        script_lines.extend(md_lines)\n",
        "\n",
        "merged_script = \"\\n\\n\".join(script_lines)\n",
        "merged_script_filename = \"merged_script.py\"\n",
        "with open(merged_script_filename, \"w\", encoding=\"utf-8\") as f:\n",
        "    f.write(merged_script)\n",
        "print(f\"Merged Python script saved as '{merged_script_filename}'.\")\n"
      ]
    }
  ]
}