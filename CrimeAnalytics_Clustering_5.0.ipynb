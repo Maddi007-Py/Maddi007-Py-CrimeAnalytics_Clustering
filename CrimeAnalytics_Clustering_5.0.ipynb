# Import necessary libraries
import itertools
import matplotlib.pyplot as plt
import numpy as np
import os
import pandas as pd
import seaborn as sns
import time
import warnings

from google.colab import files
from IPython.display import display, HTML
from matplotlib.colors import BoundaryNorm, LinearSegmentedColormap
from scipy import stats
from scipy.stats import skew
from sklearn.cluster import KMeans
from sklearn.compose import ColumnTransformer
from sklearn.metrics import silhouette_score, davies_bouldin_score, calinski_harabasz_score
from sklearn.pipeline import Pipeline
from sklearn.preprocessing import OneHotEncoder, LabelEncoder
from sklearn.preprocessing import StandardScaler
from tabulate import tabulate

# Install 'tabulate' package quietly
os.system('pip install tabulate -qqq')

# Install 'openpyxl' package quietly
os.system('pip install openpyxl -qqq')


# Load the dataset
crime_df = pd.read_csv('major-crime-indicators.csv', low_memory=False)

# Display HTML formatted message confirming that the dataset is loaded
message = """
<div style="font-size: 18px; color: #333; font-weight: bold; padding: 10px;">
    Dataset from <span style="color: blue;">major-crime-indicators.csv</span> is
    <span style="color: green;">successfully</span> loaded!
</div>
"""

# Display the message
display(HTML(message))
