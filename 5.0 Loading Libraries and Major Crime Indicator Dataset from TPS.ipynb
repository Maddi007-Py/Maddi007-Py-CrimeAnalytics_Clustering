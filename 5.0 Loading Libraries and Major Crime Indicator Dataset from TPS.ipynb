{
  "nbformat": 4,
  "nbformat_minor": 0,
  "metadata": {
    "colab": {
      "provenance": [],
      "authorship_tag": "ABX9TyNX7bhSyFT3kQjBa1D8E8qx",
      "include_colab_link": true
    },
    "kernelspec": {
      "name": "python3",
      "display_name": "Python 3"
    },
    "language_info": {
      "name": "python"
    }
  },
  "cells": [
    {
      "cell_type": "markdown",
      "metadata": {
        "id": "view-in-github",
        "colab_type": "text"
      },
      "source": [
        "<a href=\"https://colab.research.google.com/github/Maddi007-Py/Maddi007-Py-CrimeAnalytics_Clustering/blob/main/5.0%20Loading%20Libraries%20and%20Major%20Crime%20Indicator%20Dataset%20from%20TPS.ipynb\" target=\"_parent\"><img src=\"https://colab.research.google.com/assets/colab-badge.svg\" alt=\"Open In Colab\"/></a>"
      ]
    },
    {
      "cell_type": "markdown",
      "source": [
        "\n",
        "### **5.0 Loading Libraries and Major Crime Indicator Dataset from TPS**"
      ],
      "metadata": {
        "id": "5JCy-6f89qGT"
      }
    },
    {
      "cell_type": "code",
      "execution_count": null,
      "metadata": {
        "id": "TmxDbzqu7OuD"
      },
      "outputs": [],
      "source": [
        "# Import necessary libraries\n",
        "import itertools\n",
        "import matplotlib.pyplot as plt\n",
        "import numpy as np\n",
        "import os\n",
        "import pandas as pd\n",
        "import seaborn as sns\n",
        "import time\n",
        "import kagglehub\n",
        "import warnings\n",
        "\n",
        "from google.colab import files\n",
        "from IPython.display import display, HTML\n",
        "from matplotlib.colors import BoundaryNorm, LinearSegmentedColormap\n",
        "from scipy import stats\n",
        "from scipy.stats import skew\n",
        "from sklearn.cluster import KMeans\n",
        "from sklearn.compose import ColumnTransformer\n",
        "from sklearn.metrics import silhouette_score, davies_bouldin_score, calinski_harabasz_score\n",
        "from sklearn.pipeline import Pipeline\n",
        "from sklearn.preprocessing import OneHotEncoder, LabelEncoder\n",
        "from sklearn.preprocessing import StandardScaler\n",
        "from tabulate import tabulate\n",
        "from kagglehub import KaggleDatasetAdapter\n",
        "\n",
        "# Install 'tabulate' package quietly\n",
        "os.system('pip install tabulate -qqq')\n",
        "\n",
        "# Install 'openpyxl' package quietly\n",
        "os.system('pip install openpyxl -qqq')\n",
        "\n",
        "\n",
        "# Set the path to the file you'd like to load\n",
        "file_path = \"\"\n",
        "\n",
        "# Load the latest version\n",
        "crime_df = kagglehub.load_dataset(\n",
        "  KaggleDatasetAdapter.PANDAS,\n",
        "  \"maddi007py/major-crime-indicators-toronto-march-2025\",\n",
        "  file_path,\n",
        "  # Provide any additional arguments like\n",
        "  # sql_query or pandas_kwargs. See the\n",
        "  # documenation for more information:\n",
        "  # https://github.com/Kaggle/kagglehub/blob/main/README.md#kaggledatasetadapterpandas\n",
        ")\n",
        "\n",
        "print(\"First 5 records:\", df.head())\n",
        "\n",
        "# Display HTML formatted message confirming that the dataset is loaded\n",
        "message = \"\"\"\n",
        "<div style=\"font-size: 18px; color: #333; font-weight: bold; padding: 10px;\">\n",
        "    Dataset from <span style=\"color: blue;\">major-crime-indicators.csv</span> is\n",
        "    <span style=\"color: green;\">successfully</span> loaded!\n",
        "</div>\n",
        "\"\"\"\n",
        "\n",
        "# Display the message\n",
        "display(HTML(message))\n"
      ]
    }
  ]
}