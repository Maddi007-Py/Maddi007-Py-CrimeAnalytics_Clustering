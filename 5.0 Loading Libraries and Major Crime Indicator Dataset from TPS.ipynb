{
  "nbformat": 4,
  "nbformat_minor": 0,
  "metadata": {
    "colab": {
      "provenance": [],
      "authorship_tag": "ABX9TyO05udBgyZwAbjlinmaFbcW",
      "include_colab_link": true
    },
    "kernelspec": {
      "name": "python3",
      "display_name": "Python 3"
    },
    "language_info": {
      "name": "python"
    }
  },
  "cells": [
    {
      "cell_type": "markdown",
      "metadata": {
        "id": "view-in-github",
        "colab_type": "text"
      },
      "source": [
        "<a href=\"https://colab.research.google.com/github/Maddi007-Py/Maddi007-Py-CrimeAnalytics_Clustering/blob/main/5.0%20Loading%20Libraries%20and%20Major%20Crime%20Indicator%20Dataset%20from%20TPS.ipynb\" target=\"_parent\"><img src=\"https://colab.research.google.com/assets/colab-badge.svg\" alt=\"Open In Colab\"/></a>"
      ]
    },
    {
      "cell_type": "markdown",
      "source": [
        "\n",
        "### **5.0 Loading Libraries and Major Crime Indicator Dataset from TPS**"
      ],
      "metadata": {
        "id": "5JCy-6f89qGT"
      }
    },
    {
      "cell_type": "code",
      "execution_count": null,
      "metadata": {
        "id": "TmxDbzqu7OuD"
      },
      "outputs": [],
      "source": [
        "# Import necessary libraries\n",
        "import itertools\n",
        "import matplotlib.pyplot as plt\n",
        "import numpy as np\n",
        "import os\n",
        "import pandas as pd\n",
        "import seaborn as sns\n",
        "import time\n",
        "import kagglehub\n",
        "import warnings\n",
        "\n",
        "from google.colab import files\n",
        "from IPython.display import display, HTML\n",
        "from matplotlib.colors import BoundaryNorm, LinearSegmentedColormap\n",
        "from scipy import stats\n",
        "from scipy.stats import skew\n",
        "from sklearn.cluster import KMeans\n",
        "from sklearn.compose import ColumnTransformer\n",
        "from sklearn.metrics import silhouette_score, davies_bouldin_score, calinski_harabasz_score\n",
        "from sklearn.pipeline import Pipeline\n",
        "from sklearn.preprocessing import OneHotEncoder, LabelEncoder\n",
        "from sklearn.preprocessing import StandardScaler\n",
        "from tabulate import tabulate\n",
        "from kagglehub import KaggleDatasetAdapter\n",
        "\n",
        "# Install 'tabulate' package quietly\n",
        "os.system('pip install tabulate -qqq')\n",
        "\n",
        "# Install 'openpyxl' package quietly\n",
        "os.system('pip install openpyxl -qqq')\n",
        "\n",
        "warnings.filterwarnings(\"ignore\", category=DeprecationWarning)\n",
        "\n",
        "# Set the file path to the filename with extension\n",
        "file_path = \"major-crime-indicators.csv\"\n",
        "\n",
        "# Load the latest version using the correct dataset handle\n",
        "crime_df = kagglehub.load_dataset(\n",
        "  KaggleDatasetAdapter.PANDAS,\n",
        "  \"maddi007py/major-crime-indicators-toronto-march-2025\",  # Correct dataset handle\n",
        "  file_path,\n",
        ")\n",
        "\n",
        "# Display HTML formatted message confirming that the dataset is loaded\n",
        "message = \"\"\"\n",
        "<div style=\"font-size: 18px; color: #333; font-weight: bold; padding: 10px;\">\n",
        "    Dataset <span style=\"color: blue;\">major-crime-indicators.csv </span> by <span style=\"color: slategray;\">Mohammad Badi</span> from Kaggle website is\n",
        "    <span style=\"color: green;\">Successfully</span> loaded!\n",
        "</div>\n",
        "\"\"\"\n",
        "display(HTML(message))\n",
        "\n",
        "# Save the dataset in the workspace as a CSV file\n",
        "crime_df.to_csv(\"major-crime-indicators.csv\", index=False)\n",
        "\n",
        "# Display HTML formatted message confirming that the file was saved in the workspace\n",
        "message = \"\"\"\n",
        "<div style=\"font-size: 18px; color: #333; font-weight: bold; padding: 10px;\">\n",
        "    Dataset saved in <span style=\"color: blue;\">current workspace </span> <span style=\"color: green;\">Successfully!</span>\n",
        "</div>\n",
        "\"\"\"\n",
        "display(HTML(message))"
      ]
    },
    {
      "cell_type": "code",
      "source": [],
      "metadata": {
        "id": "435to-cyQoeY",
        "outputId": "2b1649cd-20d6-4f49-bb9e-4b28fd32174d",
        "colab": {
          "base_uri": "https://localhost:8080/",
          "height": 102
        }
      },
      "execution_count": null,
      "outputs": [
        {
          "output_type": "display_data",
          "data": {
            "text/plain": [
              "<IPython.core.display.HTML object>"
            ],
            "text/html": [
              "\n",
              "<div style=\"font-size: 18px; color: #333; font-weight: bold; padding: 10px;\">\n",
              "    Dataset <span style=\"color: blue;\">major-crime-indicators.csv </span> by <span style=\"color: slategray;\">Mohammad Badi</span> from Kaggle website is\n",
              "    <span style=\"color: green;\">Successfully</span> loaded!\n",
              "</div>\n"
            ]
          },
          "metadata": {}
        },
        {
          "output_type": "display_data",
          "data": {
            "text/plain": [
              "<IPython.core.display.HTML object>"
            ],
            "text/html": [
              "\n",
              "<div style=\"font-size: 18px; color: #333; font-weight: bold; padding: 10px;\">\n",
              "    Dataset saved in <span style=\"color: blue;\">current workspace </span> <span style=\"color: green;\">Successfully!</span>\n",
              "</div>\n"
            ]
          },
          "metadata": {}
        }
      ]
    }
  ]
}