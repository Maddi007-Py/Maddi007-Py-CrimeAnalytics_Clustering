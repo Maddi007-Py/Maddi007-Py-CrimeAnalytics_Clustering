{
  "nbformat": 4,
  "nbformat_minor": 0,
  "metadata": {
    "colab": {
      "provenance": [],
      "authorship_tag": "ABX9TyORCEThbn0HhEauT24RFepw",
      "include_colab_link": true
    },
    "kernelspec": {
      "name": "python3",
      "display_name": "Python 3"
    },
    "language_info": {
      "name": "python"
    }
  },
  "cells": [
    {
      "cell_type": "markdown",
      "metadata": {
        "id": "view-in-github",
        "colab_type": "text"
      },
      "source": [
        "<a href=\"https://colab.research.google.com/github/Maddi007-Py/Maddi007-Py-CrimeAnalytics_Clustering/blob/main/Code%20Sections/5.2%20Creating%20Target%20Dataset.ipynb\" target=\"_parent\"><img src=\"https://colab.research.google.com/assets/colab-badge.svg\" alt=\"Open In Colab\"/></a>"
      ]
    },
    {
      "cell_type": "markdown",
      "source": [
        "### **5.2\tCreating Target Dataset**"
      ],
      "metadata": {
        "id": "05kJ7yFd99Ox"
      }
    },
    {
      "cell_type": "code",
      "source": [
        "\n",
        "import warnings\n",
        "import pandas as pd\n",
        "import kagglehub\n",
        "from kagglehub import KaggleDatasetAdapter\n",
        "import matplotlib.pyplot as plt\n",
        "import os\n",
        "import contextlib\n",
        "from google.colab import files\n",
        "from IPython.display import display, HTML\n",
        "\n",
        "print(\"\\n\\n\")\n",
        "# Suppress warnings\n",
        "warnings.simplefilter(action='ignore', category=FutureWarning)\n",
        "warnings.filterwarnings(\"ignore\", category=DeprecationWarning)\n",
        "\n",
        "# File path to the filename with extension\n",
        "file_path = \"major-crime-indicators.csv\"\n",
        "\n",
        "# Load the latest version using the correct dataset handle while suppressing the download output\n",
        "with open(os.devnull, 'w') as fnull:\n",
        "    with contextlib.redirect_stdout(fnull):\n",
        "        df = kagglehub.load_dataset(\n",
        "            KaggleDatasetAdapter.PANDAS,\n",
        "            \"maddi007py/major-crime-indicators-toronto-march-2025\",  # Dataset handle\n",
        "            file_path,\n",
        "        )\n",
        "\n",
        "initial_count = df.shape[0]\n",
        "\n",
        "# ---------------------------\n",
        "# Filter 1: UCR Code 2135 with UCR Extension 210\n",
        "filter1_df = df[(df['UCR_CODE'] == 2135) & (df['UCR_EXT'] == 210)].copy()\n",
        "count1 = filter1_df.shape[0]\n",
        "\n",
        "# ---------------------------\n",
        "# Filter 2: UCR Code 1610 with UCR Extension 140\n",
        "filter2_df = df[(df['UCR_CODE'] == 1610) & (df['UCR_EXT'] == 140)].copy()\n",
        "count2 = filter2_df.shape[0]\n",
        "\n",
        "# Final dataset: Union of both filters\n",
        "final_df = pd.concat([filter1_df, filter2_df]).copy()\n",
        "final_count = final_df.shape[0]\n",
        "\n",
        "# Save the final dataset as Target_Dataset.csv\n",
        "final_df.to_csv('Target_Dataset.csv', index=False)\n",
        "\n",
        "# Build steps summary as a list of dictionaries\n",
        "steps_summary = []\n",
        "steps_summary.append({\n",
        "    \"Step Taken\": \"Filter 1: UCR Code 2135 with UCR Extension 210\",\n",
        "    \"Before Action\": initial_count,\n",
        "    \"Affected by Action\": count1,\n",
        "    \"After Action\": count1,\n",
        "    \"Unit\": \"Rows\"\n",
        "})\n",
        "steps_summary.append({\n",
        "    \"Step Taken\": \"Filter 2: UCR Code 1610 with UCR Extension 140\",\n",
        "    \"Before Action\": count1,  # using count1 as the 'After Action' of Filter 1\n",
        "    \"Affected by Action\": count2,\n",
        "    \"After Action\": final_count,\n",
        "    \"Unit\": \"Rows\"\n",
        "})\n",
        "steps_summary.append({\n",
        "    \"Step Taken\": \"Rows Affected in <strong>UCR Filtering</strong>\",\n",
        "    \"Before Action\": \"Initial Load:<br><strong>\" + str(initial_count) + \"</strong>\",\n",
        "    \"Affected by Action\": \"Rows Filtered:<br><strong>\" + str(initial_count - final_count) + \"</strong>\",\n",
        "    \"After Action\": \"Final Count:<br><strong>\" + str(final_count) + \"</strong>\",\n",
        "    \"Unit\": \"Rows\"\n",
        "})\n",
        "\n",
        "# Output File Name for HTML summary\n",
        "html_output_filename = '/content/5.2 Target Dataset.html'\n",
        "\n",
        "# Create HTML Table with styling\n",
        "html_table = \"\"\"\n",
        "<table style='border-collapse: collapse; width: 100%; font-size: 18px;'>\n",
        "    <thead style='background-color: #4CAF50; color: white;'>\n",
        "        <tr>\n",
        "            <th colspan=\"5\" style=\"text-align: center; font-size: 24px; background-color: #2f4f4f; color: white;\">\n",
        "                5.2 Creating Target Dataset\n",
        "            </th>\n",
        "        </tr>\n",
        "        <tr>\n",
        "            <th>Step Taken</th>\n",
        "            <th>Before Action</th>\n",
        "            <th>Affected by Action</th>\n",
        "            <th>After Action</th>\n",
        "            <th>Unit</th>\n",
        "        </tr>\n",
        "    </thead>\n",
        "    <tbody>\n",
        "\"\"\"\n",
        "\n",
        "for step in steps_summary:\n",
        "    html_table += f\"\"\"\n",
        "    <tr style='border: 1px solid #dddddd;'>\n",
        "        <td style='border: 1px solid #dddddd; padding: 8px;'>{step['Step Taken']}</td>\n",
        "        <td style='border: 1px solid #dddddd; padding: 8px;'>{step['Before Action']}</td>\n",
        "        <td style='border: 1px solid #dddddd; padding: 8px;'>{step['Affected by Action']}</td>\n",
        "        <td style='border: 1px solid #dddddd; padding: 8px;'>{step['After Action']}</td>\n",
        "        <td style='border: 1px solid #dddddd; padding: 8px;'>{step['Unit']}</td>\n",
        "    </tr>\n",
        "    \"\"\"\n",
        "\n",
        "# Add a final row with the note (spanning all columns)\n",
        "note_text = (\n",
        "    \"<strong>Note: The dataset contains \"\n",
        "    \"<span style='color: darkred; '>ALL CRIMES</span>, but our research focuses on \"\n",
        "    \"<span style='color: green; '>MOTOR VEHICLE THEFTS</span>. \"\n",
        "    \"Therefore, we applied two filters: <br>\"\n",
        "    \"• Filter 1: UCR Code 2135 with UCR Extension 210 for Theft of a Motor Vehicle (Auto Theft), and <br>\"\n",
        "    \"• Filter 2: UCR Code 1610 with UCR Extension 140 for Robbery - Vehicle Jacking.<br>\"\n",
        "    \"The target dataset has been saved as <span style='color: blue;'>'Target_Dataset.csv'</span> for further analysis. </strong>\"\n",
        ")\n",
        "html_table += f\"\"\"\n",
        "    <tr style='border: 1px solid #dddddd;'>\n",
        "        <td colspan=\"5\" style='border: 1px solid #dddddd; padding: 8px;'>{note_text}</td>\n",
        "    </tr>\n",
        "\"\"\"\n",
        "html_table += \"</tbody></table>\"\n",
        "\n",
        "\n",
        "print(\"\\n\\n\")\n",
        "# Display the outputs\n",
        "display(HTML(html_table))\n",
        "\n",
        "with open(html_output_filename, 'w', encoding='utf-8') as f:\n",
        "    f.write(html_table)\n",
        "files.download(html_output_filename)\n",
        "print(\"\\n\\n\")"
      ],
      "metadata": {
        "id": "12VbRKjN9-Tx",
        "colab": {
          "base_uri": "https://localhost:8080/",
          "height": 498
        },
        "outputId": "091de2a1-ea63-4db9-f439-fd2f12d253d6"
      },
      "execution_count": 2,
      "outputs": [
        {
          "output_type": "stream",
          "name": "stdout",
          "text": [
            "\n",
            "\n",
            "\n",
            "\n",
            "\n",
            "\n"
          ]
        },
        {
          "output_type": "display_data",
          "data": {
            "text/plain": [
              "<IPython.core.display.HTML object>"
            ],
            "text/html": [
              "\n",
              "<table style='border-collapse: collapse; width: 100%; font-size: 18px;'>\n",
              "    <thead style='background-color: #4CAF50; color: white;'>\n",
              "        <tr>\n",
              "            <th colspan=\"5\" style=\"text-align: center; font-size: 24px; background-color: #2f4f4f; color: white;\">\n",
              "                5.2 Creating Target Dataset\n",
              "            </th>\n",
              "        </tr>\n",
              "        <tr>\n",
              "            <th>Step Taken</th>\n",
              "            <th>Before Action</th>\n",
              "            <th>Affected by Action</th>\n",
              "            <th>After Action</th>\n",
              "            <th>Unit</th>\n",
              "        </tr>\n",
              "    </thead>\n",
              "    <tbody>\n",
              "\n",
              "    <tr style='border: 1px solid #dddddd;'>\n",
              "        <td style='border: 1px solid #dddddd; padding: 8px;'>Filter 1: UCR Code 2135 with UCR Extension 210</td>\n",
              "        <td style='border: 1px solid #dddddd; padding: 8px;'>420200</td>\n",
              "        <td style='border: 1px solid #dddddd; padding: 8px;'>68063</td>\n",
              "        <td style='border: 1px solid #dddddd; padding: 8px;'>68063</td>\n",
              "        <td style='border: 1px solid #dddddd; padding: 8px;'>Rows</td>\n",
              "    </tr>\n",
              "    \n",
              "    <tr style='border: 1px solid #dddddd;'>\n",
              "        <td style='border: 1px solid #dddddd; padding: 8px;'>Filter 2: UCR Code 1610 with UCR Extension 140</td>\n",
              "        <td style='border: 1px solid #dddddd; padding: 8px;'>68063</td>\n",
              "        <td style='border: 1px solid #dddddd; padding: 8px;'>1513</td>\n",
              "        <td style='border: 1px solid #dddddd; padding: 8px;'>69576</td>\n",
              "        <td style='border: 1px solid #dddddd; padding: 8px;'>Rows</td>\n",
              "    </tr>\n",
              "    \n",
              "    <tr style='border: 1px solid #dddddd;'>\n",
              "        <td style='border: 1px solid #dddddd; padding: 8px;'>Rows Affected in <strong>UCR Filtering</strong></td>\n",
              "        <td style='border: 1px solid #dddddd; padding: 8px;'>Initial Load:<br><strong>420200</strong></td>\n",
              "        <td style='border: 1px solid #dddddd; padding: 8px;'>Rows Filtered:<br><strong>350624</strong></td>\n",
              "        <td style='border: 1px solid #dddddd; padding: 8px;'>Final Count:<br><strong>69576</strong></td>\n",
              "        <td style='border: 1px solid #dddddd; padding: 8px;'>Rows</td>\n",
              "    </tr>\n",
              "    \n",
              "    <tr style='border: 1px solid #dddddd;'>\n",
              "        <td colspan=\"5\" style='border: 1px solid #dddddd; padding: 8px;'><strong>Note: The dataset contains <span style='color: darkred; '>ALL CRIMES</span>, but our research focuses on <span style='color: green; '>MOTOR VEHICLE THEFTS</span>. Therefore, we applied two filters: <br>• Filter 1: UCR Code 2135 with UCR Extension 210 for Theft of a Motor Vehicle (Auto Theft), and <br>• Filter 2: UCR Code 1610 with UCR Extension 140 for Robbery - Vehicle Jacking.<br>The target dataset has been saved as <span style='color: blue;'>'Target_Dataset.csv'</span> for further analysis. </strong></td>\n",
              "    </tr>\n",
              "</tbody></table>"
            ]
          },
          "metadata": {}
        },
        {
          "output_type": "display_data",
          "data": {
            "text/plain": [
              "<IPython.core.display.Javascript object>"
            ],
            "application/javascript": [
              "\n",
              "    async function download(id, filename, size) {\n",
              "      if (!google.colab.kernel.accessAllowed) {\n",
              "        return;\n",
              "      }\n",
              "      const div = document.createElement('div');\n",
              "      const label = document.createElement('label');\n",
              "      label.textContent = `Downloading \"${filename}\": `;\n",
              "      div.appendChild(label);\n",
              "      const progress = document.createElement('progress');\n",
              "      progress.max = size;\n",
              "      div.appendChild(progress);\n",
              "      document.body.appendChild(div);\n",
              "\n",
              "      const buffers = [];\n",
              "      let downloaded = 0;\n",
              "\n",
              "      const channel = await google.colab.kernel.comms.open(id);\n",
              "      // Send a message to notify the kernel that we're ready.\n",
              "      channel.send({})\n",
              "\n",
              "      for await (const message of channel.messages) {\n",
              "        // Send a message to notify the kernel that we're ready.\n",
              "        channel.send({})\n",
              "        if (message.buffers) {\n",
              "          for (const buffer of message.buffers) {\n",
              "            buffers.push(buffer);\n",
              "            downloaded += buffer.byteLength;\n",
              "            progress.value = downloaded;\n",
              "          }\n",
              "        }\n",
              "      }\n",
              "      const blob = new Blob(buffers, {type: 'application/binary'});\n",
              "      const a = document.createElement('a');\n",
              "      a.href = window.URL.createObjectURL(blob);\n",
              "      a.download = filename;\n",
              "      div.appendChild(a);\n",
              "      a.click();\n",
              "      div.remove();\n",
              "    }\n",
              "  "
            ]
          },
          "metadata": {}
        },
        {
          "output_type": "display_data",
          "data": {
            "text/plain": [
              "<IPython.core.display.Javascript object>"
            ],
            "application/javascript": [
              "download(\"download_83146e56-e540-41d6-ad1e-47113e63523c\", \"5.2 Target Dataset.html\", 2710)"
            ]
          },
          "metadata": {}
        },
        {
          "output_type": "stream",
          "name": "stdout",
          "text": [
            "\n",
            "\n",
            "\n"
          ]
        }
      ]
    }
  ]
}