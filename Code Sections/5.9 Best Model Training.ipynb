{
  "cells": [
    {
      "cell_type": "markdown",
      "metadata": {
        "id": "view-in-github",
        "colab_type": "text"
      },
      "source": [
        "<a href=\"https://colab.research.google.com/github/mohammadbadi/CrimeAnalytics_Clustering/blob/main/Code%20Sections/5.9%20Best%20Model%20Training.ipynb\" target=\"_parent\"><img src=\"https://colab.research.google.com/assets/colab-badge.svg\" alt=\"Open In Colab\"/></a>"
      ]
    },
    {
      "cell_type": "markdown",
      "id": "5e90fa03",
      "metadata": {
        "id": "5e90fa03",
        "papermill": {
          "duration": 0.001353,
          "end_time": "2025-03-17T18:17:46.925777",
          "exception": false,
          "start_time": "2025-03-17T18:17:46.924424",
          "status": "completed"
        },
        "tags": []
      },
      "source": [
        "### **5.9 Best Model Training**"
      ]
    },
    {
      "cell_type": "code",
      "execution_count": 5,
      "id": "a3fb404c",
      "metadata": {
        "execution": {
          "iopub.execute_input": "2025-03-17T18:17:46.930311Z",
          "iopub.status.busy": "2025-03-17T18:17:46.929973Z",
          "iopub.status.idle": "2025-03-17T18:32:39.006881Z",
          "shell.execute_reply": "2025-03-17T18:32:39.005806Z"
        },
        "id": "a3fb404c",
        "papermill": {
          "duration": 892.08266,
          "end_time": "2025-03-17T18:32:39.010108",
          "exception": false,
          "start_time": "2025-03-17T18:17:46.927448",
          "status": "completed"
        },
        "tags": [],
        "colab": {
          "base_uri": "https://localhost:8080/",
          "height": 80
        },
        "outputId": "ff4dc336-36b7-4b2e-fb04-4628b8fe4585"
      },
      "outputs": [
        {
          "output_type": "display_data",
          "data": {
            "text/plain": [
              "<IPython.core.display.HTML object>"
            ],
            "text/html": [
              "\n",
              "    <p style=\"color: darkblue; font-size: 18px; font-weight: bold;\">\n",
              "         Clustering results saved as <span style=\"color: green;\">Best_Clustering_Models.csv </span>.\n",
              "    </p>\n"
            ]
          },
          "metadata": {}
        },
        {
          "output_type": "display_data",
          "data": {
            "text/plain": [
              "<IPython.core.display.HTML object>"
            ],
            "text/html": [
              "\n",
              "    <p style=\"color: darkblue; font-size: 18px; font-weight: bold;\">\n",
              "         Clustering Base Features saved as <span style=\"color: green;\">Clustering_Base_Features.csv </span>.\n",
              "         Clustering Statistics saved as <span style=\"color: green;\">Clustering_Result_Stats.csv </span>.\n",
              "    </p>\n"
            ]
          },
          "metadata": {}
        }
      ],
      "source": [
        "import numpy as np\n",
        "import pandas as pd\n",
        "import warnings\n",
        "import ast  # For safely evaluating strings\n",
        "from sklearn.cluster import KMeans, DBSCAN\n",
        "from sklearn.metrics import silhouette_score, davies_bouldin_score, calinski_harabasz_score\n",
        "from sklearn.preprocessing import StandardScaler\n",
        "from IPython.display import display, HTML\n",
        "from google.colab import files\n",
        "\n",
        "# Suppress FutureWarnings\n",
        "warnings.simplefilter(action='ignore', category=FutureWarning)\n",
        "\n",
        "# Load the dataset\n",
        "url = \"https://raw.githubusercontent.com/mohammadbadi/CrimeAnalytics_Clustering/refs/heads/main/Output_CSV/FE_Encoded.csv\"\n",
        "original_data = pd.read_csv(url)\n",
        "\n",
        "# Store _id before clustering\n",
        "original_data['_id'] = original_data.index\n",
        "\n",
        "# Use 20% of the data (random sample)\n",
        "sample_data = original_data.copy()\n",
        "\n",
        "# Load feature combinations\n",
        "url1 = \"https://raw.githubusercontent.com/mohammadbadi/CrimeAnalytics_Clustering/refs/heads/main/Output_CSV/Feature_Combo_Current_Results.csv\"\n",
        "feature_combos = pd.read_csv(url1)\n",
        "\n",
        "# Store _id before clustering\n",
        "original_data['_id'] = original_data.index\n",
        "\n",
        "# Use 20% of the data (random sample)\n",
        "#sample_data = original_data.sample(frac=0.2, random_state=42)\n",
        "\n",
        "# Define the set names to match\n",
        "set_names = ['4_Set_165','4_Set_369', '4_Set_490', '4_Set_494', '4_Set_495']\n",
        "\n",
        "# Initialize an empty list to hold the feature sets\n",
        "feature_sets = []\n",
        "\n",
        "# Extract corresponding feature sets\n",
        "for set_name in set_names:\n",
        "    matched_features = feature_combos[feature_combos['Feature Set'] == set_name]['Feature_Names_String']\n",
        "    if not matched_features.empty:\n",
        "        features_list = ast.literal_eval(matched_features.values[0])  # Convert string to list\n",
        "        feature_sets.append(features_list)\n",
        "\n",
        "# Create a copy of the original data to store clustering results\n",
        "clustering_results = original_data.copy()\n",
        "\n",
        "# Add placeholder columns for clustering results\n",
        "for i in range(1, 6):\n",
        "    clustering_results[f'KMeans{i}_Cluster'] = -1\n",
        "    clustering_results[f'KMeans{i}_Silhouette_Score'] = np.nan\n",
        "    clustering_results[f'KMeans{i}_Davies_Bouldin_Index'] = np.nan\n",
        "    clustering_results[f'KMeans{i}_Calinski_Harabasz_Score'] = np.nan\n",
        "    clustering_results[f'KMeans{i}_Prediction_Accuracy'] = np.nan\n",
        "    clustering_results[f'DBSCAN{i}_Cluster'] = -1\n",
        "    clustering_results[f'DBSCAN{i}_Silhouette_Score'] = np.nan\n",
        "    clustering_results[f'DBSCAN{i}_Davies_Bouldin_Index'] = np.nan\n",
        "    clustering_results[f'DBSCAN{i}_Prediction_Accuracy'] = np.nan\n",
        "\n",
        "# Perform clustering on each feature set\n",
        "for i, features in enumerate(feature_sets, start=1):\n",
        "    valid_features = [f for f in features if f in sample_data.columns]\n",
        "    data_for_clustering = sample_data[valid_features].copy()\n",
        "\n",
        "    # Store _id for mapping back\n",
        "    sample_ids = sample_data['_id'].values\n",
        "\n",
        "    numerical_cols = data_for_clustering.select_dtypes(include=['int64', 'float64']).columns.tolist()\n",
        "\n",
        "    scaler = StandardScaler()\n",
        "    data_scaled = pd.DataFrame(scaler.fit_transform(data_for_clustering[numerical_cols]), columns=numerical_cols)\n",
        "\n",
        "    # KMeans Clustering\n",
        "    kmeans = KMeans(n_clusters=4, random_state=42)\n",
        "    kmeans_labels = kmeans.fit_predict(data_scaled)\n",
        "    silhouette_score_kmeans = silhouette_score(data_scaled, kmeans_labels)\n",
        "    davies_bouldin_score_kmeans = davies_bouldin_score(data_scaled, kmeans_labels)\n",
        "    calinski_harabasz_score_kmeans = calinski_harabasz_score(data_scaled, kmeans_labels)\n",
        "    kmeans_accuracy = max(0, silhouette_score_kmeans) * 100\n",
        "\n",
        "    # DBSCAN Clustering\n",
        "    dbscan = DBSCAN(eps=0.5, min_samples=5)\n",
        "    dbscan_labels = dbscan.fit_predict(data_scaled)\n",
        "    silhouette_score_dbscan = -1 if len(set(dbscan_labels)) <= 1 else silhouette_score(data_scaled, dbscan_labels)\n",
        "    davies_bouldin_score_dbscan = -1 if len(set(dbscan_labels)) <= 1 else davies_bouldin_score(data_scaled, dbscan_labels)\n",
        "    dbscan_accuracy = max(0, silhouette_score_dbscan) * 100\n",
        "\n",
        "    # Update clustering results in the original dataset based on _id matching\n",
        "    for idx, original_idx in enumerate(sample_ids):\n",
        "        clustering_results.loc[original_idx, f'KMeans{i}_Cluster'] = kmeans_labels[idx]\n",
        "        clustering_results.loc[original_idx, f'KMeans{i}_Silhouette_Score'] = silhouette_score_kmeans\n",
        "        clustering_results.loc[original_idx, f'KMeans{i}_Davies_Bouldin_Index'] = davies_bouldin_score_kmeans\n",
        "        clustering_results.loc[original_idx, f'KMeans{i}_Calinski_Harabasz_Score'] = calinski_harabasz_score_kmeans\n",
        "        clustering_results.loc[original_idx, f'KMeans{i}_Prediction_Accuracy'] = kmeans_accuracy\n",
        "        clustering_results.loc[original_idx, f'DBSCAN{i}_Cluster'] = dbscan_labels[idx]\n",
        "        clustering_results.loc[original_idx, f'DBSCAN{i}_Silhouette_Score'] = silhouette_score_dbscan\n",
        "        clustering_results.loc[original_idx, f'DBSCAN{i}_Davies_Bouldin_Index'] = davies_bouldin_score_dbscan\n",
        "        clustering_results.loc[original_idx, f'DBSCAN{i}_Prediction_Accuracy'] = dbscan_accuracy\n",
        "\n",
        "# Save clustering results to CSV\n",
        "clustering_results.to_csv('clustering_results.csv', index=False)\n",
        "\n",
        "# Display formatted message for saved file\n",
        "display(HTML(\"\"\"\n",
        "    <p style=\"color: darkblue; font-size: 18px; font-weight: bold;\">\n",
        "         Clustering results saved as <span style=\"color: green;\">Best_Clustering_Models.csv </span>.\n",
        "    </p>\n",
        "\"\"\"))\n",
        "\n",
        "# Read the clustering_results.csv file\n",
        "clustering_results = pd.read_csv('clustering_results.csv')\n",
        "\n",
        "# Define the base columns (first file)\n",
        "base_columns = [\n",
        "    '_id', 'EVENT_UNIQUE_ID', 'OCC_YEAR', 'OCC_MONTH', 'OCC_DAY', 'OCC_DOY', 'OCC_DOW', 'OCC_HOUR', 'DIVISION', 'LOCATION_TYPE',\n",
        "    'PREMISES_TYPE', 'HOOD_158', 'NEIGHBOURHOOD_158', 'LONG_WGS84', 'LAT_WGS84', 'OCC_DATETIME', 'reporting_delay_days',\n",
        "    'reporting_delay_hours', 'Location_Engineered', 'Hood_158_Encoded', 'Division_Encoded', 'Location_Engineered_Other',\n",
        "    'Location_Engineered_Public', 'Location_Engineered_Residential', 'OCC_Month_Encoded', 'OCC_DOW_Encoded'\n",
        "]\n",
        "\n",
        "# Create and save the base CSV file\n",
        "clustering_results_base = clustering_results[base_columns]\n",
        "clustering_results_base.to_csv('Clustering_Base_Features.csv', index=False)\n",
        "\n",
        "# Define the clustering statistics columns (second file)\n",
        "stats_columns = [\n",
        "    '_id',\n",
        "    # Set 1 columns\n",
        "    'KMeans1_Cluster', 'KMeans1_Silhouette_Score', 'KMeans1_Davies_Bouldin_Index', 'KMeans1_Calinski_Harabasz_Score',\n",
        "    'KMeans1_Prediction_Accuracy', 'DBSCAN1_Cluster', 'DBSCAN1_Silhouette_Score', 'DBSCAN1_Davies_Bouldin_Index', 'DBSCAN1_Prediction_Accuracy',\n",
        "\n",
        "    # Set 2 columns\n",
        "    'KMeans2_Cluster', 'KMeans2_Silhouette_Score', 'KMeans2_Davies_Bouldin_Index', 'KMeans2_Calinski_Harabasz_Score',\n",
        "    'KMeans2_Prediction_Accuracy','DBSCAN2_Cluster', 'DBSCAN2_Silhouette_Score', 'DBSCAN2_Davies_Bouldin_Index', 'DBSCAN2_Prediction_Accuracy',\n",
        "\n",
        "    # Set 3 columns\n",
        "    'KMeans3_Cluster', 'KMeans3_Silhouette_Score', 'KMeans3_Davies_Bouldin_Index', 'KMeans3_Calinski_Harabasz_Score',\n",
        "    'KMeans3_Prediction_Accuracy', 'DBSCAN3_Cluster', 'DBSCAN3_Silhouette_Score', 'DBSCAN3_Davies_Bouldin_Index', 'DBSCAN3_Prediction_Accuracy',\n",
        "\n",
        "    # Set 4 columns\n",
        "    'KMeans4_Cluster', 'KMeans4_Silhouette_Score', 'KMeans4_Davies_Bouldin_Index', 'KMeans4_Calinski_Harabasz_Score',\n",
        "    'KMeans4_Prediction_Accuracy','DBSCAN4_Cluster', 'DBSCAN4_Silhouette_Score', 'DBSCAN4_Davies_Bouldin_Index', 'DBSCAN4_Prediction_Accuracy',\n",
        "\n",
        "    # Set 5 columns\n",
        "    'KMeans5_Cluster', 'KMeans5_Silhouette_Score', 'KMeans5_Davies_Bouldin_Index', 'KMeans5_Calinski_Harabasz_Score',\n",
        "    'KMeans5_Prediction_Accuracy', 'DBSCAN5_Cluster', 'DBSCAN5_Silhouette_Score', 'DBSCAN5_Davies_Bouldin_Index', 'DBSCAN5_Prediction_Accuracy'\n",
        "]\n",
        "\n",
        "# Create and save the clustering stats CSV file\n",
        "clustering_results_stats = clustering_results[stats_columns]\n",
        "clustering_results_stats.to_csv('Clustering_Result_Stats.csv', index=False)\n",
        "\n",
        "# Display formatted message for saved file\n",
        "display(HTML(\"\"\"\n",
        "    <p style=\"color: darkblue; font-size: 18px; font-weight: bold;\">\n",
        "         Clustering Base Features saved as <span style=\"color: green;\">Clustering_Base_Features.csv </span>.\n",
        "         Clustering Statistics saved as <span style=\"color: green;\">Clustering_Result_Stats.csv </span>.\n",
        "    </p>\n",
        "\"\"\"))"
      ]
    }
  ],
  "metadata": {
    "colab": {
      "provenance": [],
      "include_colab_link": true
    },
    "kaggle": {
      "accelerator": "none",
      "dataSources": [
        {
          "datasetId": 6888578,
          "sourceId": 11056653,
          "sourceType": "datasetVersion"
        }
      ],
      "isGpuEnabled": false,
      "isInternetEnabled": true,
      "language": "python",
      "sourceType": "notebook"
    },
    "kernelspec": {
      "display_name": "Python 3",
      "name": "python3"
    },
    "language_info": {
      "codemirror_mode": {
        "name": "ipython",
        "version": 3
      },
      "file_extension": ".py",
      "mimetype": "text/x-python",
      "name": "python",
      "nbconvert_exporter": "python",
      "pygments_lexer": "ipython3",
      "version": "3.10.12"
    },
    "papermill": {
      "default_parameters": {},
      "duration": 895.814067,
      "end_time": "2025-03-17T18:32:40.034134",
      "environment_variables": {},
      "exception": null,
      "input_path": "__notebook__.ipynb",
      "output_path": "__notebook__.ipynb",
      "parameters": {},
      "start_time": "2025-03-17T18:17:44.220067",
      "version": "2.6.0"
    }
  },
  "nbformat": 4,
  "nbformat_minor": 5
}