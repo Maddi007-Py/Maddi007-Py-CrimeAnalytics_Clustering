{
 "cells": [
  {
   "cell_type": "markdown",
   "id": "794d62a9",
   "metadata": {
    "id": "view-in-github",
    "papermill": {
     "duration": 0.002685,
     "end_time": "2025-03-17T09:43:41.869136",
     "exception": false,
     "start_time": "2025-03-17T09:43:41.866451",
     "status": "completed"
    },
    "tags": []
   },
   "source": [
    "<a href=\"https://colab.research.google.com/github/mohammadbadi/CrimeAnalytics_Clustering/blob/main/Code%20Sections/5.0%20Loading%20Libraries%20and%20Dataset.ipynb\" target=\"_parent\"><img src=\"https://colab.research.google.com/assets/colab-badge.svg\" alt=\"Open In Colab\"/></a>"
   ]
  },
  {
   "cell_type": "markdown",
   "id": "3b6fe214",
   "metadata": {
    "id": "14bb0c71",
    "papermill": {
     "duration": 0.001814,
     "end_time": "2025-03-17T09:43:41.873362",
     "exception": false,
     "start_time": "2025-03-17T09:43:41.871548",
     "status": "completed"
    },
    "tags": []
   },
   "source": [
    "\n",
    "### **5.0 Loading Libraries and Major Crime Indicator Dataset from TPS**"
   ]
  },
  {
   "cell_type": "code",
   "execution_count": 1,
   "id": "765716df",
   "metadata": {
    "execution": {
     "iopub.execute_input": "2025-03-17T09:43:41.879094Z",
     "iopub.status.busy": "2025-03-17T09:43:41.878616Z",
     "iopub.status.idle": "2025-03-17T09:44:09.183296Z",
     "shell.execute_reply": "2025-03-17T09:44:09.182051Z"
    },
    "id": "ae4c0728",
    "outputId": "0fe33b93-f613-46ff-eac4-d4ffaf2bfa00",
    "papermill": {
     "duration": 27.310104,
     "end_time": "2025-03-17T09:44:09.185385",
     "exception": false,
     "start_time": "2025-03-17T09:43:41.875281",
     "status": "completed"
    },
    "tags": []
   },
   "outputs": [
    {
     "data": {
      "text/html": [
       "\n",
       "<div style=\"font-size: 18px; color: #333; font-weight: bold; padding: 10px;\">\n",
       "    Dataset <span style=\"color: blue;\">major-crime-indicators.csv </span> by <span style=\"color: slategray;\">Mohammad Badi</span> from Kaggle website is\n",
       "    <span style=\"color: green;\">Successfully</span> loaded!\n",
       "</div>\n"
      ],
      "text/plain": [
       "<IPython.core.display.HTML object>"
      ]
     },
     "metadata": {},
     "output_type": "display_data"
    },
    {
     "data": {
      "text/html": [
       "\n",
       "<div style=\"font-size: 18px; color: #333; font-weight: bold; padding: 10px;\">\n",
       "    Dataset saved in <span style=\"color: blue;\">current workspace </span> <span style=\"color: green;\">Successfully!</span>\n",
       "</div>\n"
      ],
      "text/plain": [
       "<IPython.core.display.HTML object>"
      ]
     },
     "metadata": {},
     "output_type": "display_data"
    }
   ],
   "source": [
    "# Import necessary libraries\n",
    "import itertools\n",
    "import matplotlib.pyplot as plt\n",
    "import numpy as np\n",
    "import os\n",
    "import pandas as pd\n",
    "import seaborn as sns\n",
    "import time\n",
    "import kagglehub\n",
    "import warnings\n",
    "\n",
    "from google.colab import files\n",
    "from IPython.display import display, HTML\n",
    "from matplotlib.colors import BoundaryNorm, LinearSegmentedColormap\n",
    "from scipy import stats\n",
    "from scipy.stats import skew\n",
    "from sklearn.cluster import KMeans\n",
    "from sklearn.compose import ColumnTransformer\n",
    "from sklearn.metrics import silhouette_score, davies_bouldin_score, calinski_harabasz_score\n",
    "from sklearn.pipeline import Pipeline\n",
    "from sklearn.preprocessing import OneHotEncoder, LabelEncoder\n",
    "from sklearn.preprocessing import StandardScaler\n",
    "from tabulate import tabulate\n",
    "from kagglehub import KaggleDatasetAdapter\n",
    "\n",
    "# Install 'tabulate' package quietly\n",
    "os.system('pip install tabulate -qqq')\n",
    "\n",
    "# Install 'openpyxl' package quietly\n",
    "os.system('pip install openpyxl -qqq')\n",
    "\n",
    "warnings.filterwarnings(\"ignore\", category=DeprecationWarning)\n",
    "\n",
    "# Set the file path to the filename with extension\n",
    "file_path = \"major-crime-indicators.csv\"\n",
    "\n",
    "# Load the latest version using the new dataset handle\n",
    "crime_df = kagglehub.load_dataset(\n",
    "  KaggleDatasetAdapter.PANDAS,\n",
    "  \"mohammadbadi/crimes-in-toronto\",  # Updated dataset handle\n",
    "  file_path,\n",
    ")\n",
    "\n",
    "# Display HTML formatted message confirming that the dataset is loaded\n",
    "message = \"\"\"\n",
    "<div style=\"font-size: 18px; color: #333; font-weight: bold; padding: 10px;\">\n",
    "    Dataset <span style=\"color: blue;\">major-crime-indicators.csv </span> by <span style=\"color: slategray;\">Mohammad Badi</span> from Kaggle website is\n",
    "    <span style=\"color: green;\">Successfully</span> loaded!\n",
    "</div>\n",
    "\"\"\"\n",
    "display(HTML(message))\n",
    "\n",
    "# Save the dataset in the workspace as a CSV file\n",
    "crime_df.to_csv(\"major-crime-indicators.csv\", index=False)\n",
    "\n",
    "# Display HTML formatted message confirming that the file was saved in the workspace\n",
    "message = \"\"\"\n",
    "<div style=\"font-size: 18px; color: #333; font-weight: bold; padding: 10px;\">\n",
    "    Dataset saved in <span style=\"color: blue;\">current workspace </span> <span style=\"color: green;\">Successfully!</span>\n",
    "</div>\n",
    "\"\"\"\n",
    "display(HTML(message))"
   ]
  }
 ],
 "metadata": {
  "colab": {
   "include_colab_link": true,
   "provenance": []
  },
  "kaggle": {
   "accelerator": "none",
   "dataSources": [
    {
     "datasetId": 6888578,
     "sourceId": 11056653,
     "sourceType": "datasetVersion"
    }
   ],
   "isGpuEnabled": false,
   "isInternetEnabled": true,
   "language": "python",
   "sourceType": "notebook"
  },
  "kernelspec": {
   "display_name": "Python 3",
   "name": "python3"
  },
  "language_info": {
   "codemirror_mode": {
    "name": "ipython",
    "version": 3
   },
   "file_extension": ".py",
   "mimetype": "text/x-python",
   "name": "python",
   "nbconvert_exporter": "python",
   "pygments_lexer": "ipython3",
   "version": "3.10.12"
  },
  "papermill": {
   "default_parameters": {},
   "duration": 31.616676,
   "end_time": "2025-03-17T09:44:10.110823",
   "environment_variables": {},
   "exception": null,
   "input_path": "__notebook__.ipynb",
   "output_path": "__notebook__.ipynb",
   "parameters": {},
   "start_time": "2025-03-17T09:43:38.494147",
   "version": "2.6.0"
  }
 },
 "nbformat": 4,
 "nbformat_minor": 5
}
