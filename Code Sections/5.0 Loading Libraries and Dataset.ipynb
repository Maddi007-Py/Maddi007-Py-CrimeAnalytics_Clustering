{
  "cells": [
    {
      "cell_type": "markdown",
      "metadata": {
        "id": "view-in-github",
        "colab_type": "text"
      },
      "source": [
        "<a href=\"https://colab.research.google.com/github/mohammadbadi/CrimeAnalytics_Clustering/blob/main/Code%20Sections/5.0%20Loading%20Libraries%20and%20Dataset.ipynb\" target=\"_parent\"><img src=\"https://colab.research.google.com/assets/colab-badge.svg\" alt=\"Open In Colab\"/></a>"
      ]
    },
    {
      "cell_type": "markdown",
      "id": "37e00b97",
      "metadata": {
        "id": "37e00b97",
        "papermill": {
          "duration": 0.00181,
          "end_time": "2025-03-17T01:24:13.191920",
          "exception": false,
          "start_time": "2025-03-17T01:24:13.190110",
          "status": "completed"
        },
        "tags": []
      },
      "source": [
        "<a href=\"https://colab.research.google.com/github/Maddi007-Py/Maddi007-Py-CrimeAnalytics_Clustering/blob/main/Code%20Sections/5.0%20Loading%20Libraries%20and%20Major%20Crime%20Indicator%20Dataset%20from%20TPS.ipynb\" target=\"_parent\"><img src=\"https://colab.research.google.com/assets/colab-badge.svg\" alt=\"Open In Colab\"/></a>"
      ]
    },
    {
      "cell_type": "markdown",
      "id": "14bb0c71",
      "metadata": {
        "id": "14bb0c71",
        "papermill": {
          "duration": 0.001565,
          "end_time": "2025-03-17T01:24:13.195373",
          "exception": false,
          "start_time": "2025-03-17T01:24:13.193808",
          "status": "completed"
        },
        "tags": []
      },
      "source": [
        "\n",
        "### **5.0 Loading Libraries and Major Crime Indicator Dataset from TPS**"
      ]
    },
    {
      "cell_type": "code",
      "execution_count": 1,
      "id": "ae4c0728",
      "metadata": {
        "execution": {
          "iopub.execute_input": "2025-03-17T01:24:13.200911Z",
          "iopub.status.busy": "2025-03-17T01:24:13.200412Z",
          "iopub.status.idle": "2025-03-17T01:24:39.133149Z",
          "shell.execute_reply": "2025-03-17T01:24:39.131584Z"
        },
        "id": "ae4c0728",
        "outputId": "0fe33b93-f613-46ff-eac4-d4ffaf2bfa00",
        "papermill": {
          "duration": 25.938948,
          "end_time": "2025-03-17T01:24:39.136145",
          "exception": false,
          "start_time": "2025-03-17T01:24:13.197197",
          "status": "completed"
        },
        "tags": [],
        "colab": {
          "base_uri": "https://localhost:8080/",
          "height": 156
        }
      },
      "outputs": [
        {
          "output_type": "stream",
          "name": "stdout",
          "text": [
            "Downloading from https://www.kaggle.com/api/v1/datasets/download/mohammadbadi/crimes-in-toronto?dataset_version_number=1&file_name=major-crime-indicators.csv...\n"
          ]
        },
        {
          "output_type": "stream",
          "name": "stderr",
          "text": [
            "100%|██████████| 117M/117M [00:02<00:00, 53.1MB/s]\n"
          ]
        },
        {
          "output_type": "display_data",
          "data": {
            "text/plain": [
              "<IPython.core.display.HTML object>"
            ],
            "text/html": [
              "\n",
              "<div style=\"font-size: 18px; color: #333; font-weight: bold; padding: 10px;\">\n",
              "    Dataset <span style=\"color: blue;\">major-crime-indicators.csv </span> by <span style=\"color: slategray;\">Mohammad Badi</span> from Kaggle website is\n",
              "    <span style=\"color: green;\">Successfully</span> loaded!\n",
              "</div>\n"
            ]
          },
          "metadata": {}
        },
        {
          "output_type": "display_data",
          "data": {
            "text/plain": [
              "<IPython.core.display.HTML object>"
            ],
            "text/html": [
              "\n",
              "<div style=\"font-size: 18px; color: #333; font-weight: bold; padding: 10px;\">\n",
              "    Dataset saved in <span style=\"color: blue;\">current workspace </span> <span style=\"color: green;\">Successfully!</span>\n",
              "</div>\n"
            ]
          },
          "metadata": {}
        }
      ],
      "source": [
        "# Import necessary libraries\n",
        "import itertools\n",
        "import matplotlib.pyplot as plt\n",
        "import numpy as np\n",
        "import os\n",
        "import pandas as pd\n",
        "import seaborn as sns\n",
        "import time\n",
        "import kagglehub\n",
        "import warnings\n",
        "\n",
        "from google.colab import files\n",
        "from IPython.display import display, HTML\n",
        "from matplotlib.colors import BoundaryNorm, LinearSegmentedColormap\n",
        "from scipy import stats\n",
        "from scipy.stats import skew\n",
        "from sklearn.cluster import KMeans\n",
        "from sklearn.compose import ColumnTransformer\n",
        "from sklearn.metrics import silhouette_score, davies_bouldin_score, calinski_harabasz_score\n",
        "from sklearn.pipeline import Pipeline\n",
        "from sklearn.preprocessing import OneHotEncoder, LabelEncoder\n",
        "from sklearn.preprocessing import StandardScaler\n",
        "from tabulate import tabulate\n",
        "from kagglehub import KaggleDatasetAdapter\n",
        "\n",
        "# Install 'tabulate' package quietly\n",
        "os.system('pip install tabulate -qqq')\n",
        "\n",
        "# Install 'openpyxl' package quietly\n",
        "os.system('pip install openpyxl -qqq')\n",
        "\n",
        "warnings.filterwarnings(\"ignore\", category=DeprecationWarning)\n",
        "\n",
        "# Set the file path to the filename with extension\n",
        "file_path = \"major-crime-indicators.csv\"\n",
        "\n",
        "# Load the latest version using the new dataset handle\n",
        "crime_df = kagglehub.load_dataset(\n",
        "  KaggleDatasetAdapter.PANDAS,\n",
        "  \"mohammadbadi/crimes-in-toronto\",  # Updated dataset handle\n",
        "  file_path,\n",
        ")\n",
        "\n",
        "# Display HTML formatted message confirming that the dataset is loaded\n",
        "message = \"\"\"\n",
        "<div style=\"font-size: 18px; color: #333; font-weight: bold; padding: 10px;\">\n",
        "    Dataset <span style=\"color: blue;\">major-crime-indicators.csv </span> by <span style=\"color: slategray;\">Mohammad Badi</span> from Kaggle website is\n",
        "    <span style=\"color: green;\">Successfully</span> loaded!\n",
        "</div>\n",
        "\"\"\"\n",
        "display(HTML(message))\n",
        "\n",
        "# Save the dataset in the workspace as a CSV file\n",
        "crime_df.to_csv(\"major-crime-indicators.csv\", index=False)\n",
        "\n",
        "# Display HTML formatted message confirming that the file was saved in the workspace\n",
        "message = \"\"\"\n",
        "<div style=\"font-size: 18px; color: #333; font-weight: bold; padding: 10px;\">\n",
        "    Dataset saved in <span style=\"color: blue;\">current workspace </span> <span style=\"color: green;\">Successfully!</span>\n",
        "</div>\n",
        "\"\"\"\n",
        "display(HTML(message))"
      ]
    }
  ],
  "metadata": {
    "colab": {
      "provenance": [],
      "include_colab_link": true
    },
    "kaggle": {
      "accelerator": "none",
      "dataSources": [
        {
          "datasetId": 6864871,
          "sourceId": 11023896,
          "sourceType": "datasetVersion"
        }
      ],
      "isGpuEnabled": false,
      "isInternetEnabled": true,
      "language": "python",
      "sourceType": "notebook"
    },
    "kernelspec": {
      "display_name": "Python 3",
      "name": "python3"
    },
    "language_info": {
      "codemirror_mode": {
        "name": "ipython",
        "version": 3
      },
      "file_extension": ".py",
      "mimetype": "text/x-python",
      "name": "python",
      "nbconvert_exporter": "python",
      "pygments_lexer": "ipython3",
      "version": "3.10.12"
    },
    "papermill": {
      "default_parameters": {},
      "duration": 30.169453,
      "end_time": "2025-03-17T01:24:40.163055",
      "environment_variables": {},
      "exception": null,
      "input_path": "__notebook__.ipynb",
      "output_path": "__notebook__.ipynb",
      "parameters": {},
      "start_time": "2025-03-17T01:24:09.993602",
      "version": "2.6.0"
    }
  },
  "nbformat": 4,
  "nbformat_minor": 5
}